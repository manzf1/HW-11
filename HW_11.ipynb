{
  "nbformat": 4,
  "nbformat_minor": 0,
  "metadata": {
    "colab": {
      "name": "HW 11",
      "provenance": []
    },
    "kernelspec": {
      "name": "python3",
      "display_name": "Python 3"
    },
    "language_info": {
      "name": "python"
    }
  },
  "cells": [
    {
      "cell_type": "markdown",
      "metadata": {
        "id": "5QOfG6EWwFX2"
      },
      "source": [
        "#**Heart Failure Prediction**\n",
        "\n",
        "#####Cardiovascular diseases (CVDs) are the no.1 cause of death globally, taking an estimated 17.9 million lives each year, which accounts for 31% of all deaths worldwide. Four out of five CVD deaths are due to heart attacks and strokes, and one-third of these deaths occur prematurely in people under 70 years of age.\n",
        "\n",
        "Heart failure is a common event caused by CVDs and the dataset I’ve taken contains 11 features that can be used to predict a possible heart disease. People with cardiovascular disease or who are at high cardiovascular risk (due to the presence of one or more risk factors such as hypertension, diabetes, hyperlipidaemia or already established disease) need early detection and management wherein a machine learning model can be of great help."
      ]
    },
    {
      "cell_type": "markdown",
      "metadata": {
        "id": "LisY8QC4wqv_"
      },
      "source": [
        "##Data Set Information:\n",
        "\n",
        "#####This data contains 918 observations with 12 attributes. In this study, they oberserved the people under the age between 30-70. They measures their BP, Cholesterol, and heart disease so find out whether they will have high chances of heart failure or not."
      ]
    },
    {
      "cell_type": "code",
      "metadata": {
        "colab": {
          "base_uri": "https://localhost:8080/",
          "height": 324
        },
        "id": "jJWIAgqR0kbj",
        "outputId": "b482b4e8-4b32-4d2c-a6e7-15726fca5bc3"
      },
      "source": [
        "import pandas as pd\n",
        "import numpy as np\n",
        "import matplotlib.pyplot as plt\n",
        "import missingno as msno\n",
        "import seaborn as sns\n",
        "\n",
        "#column names\n",
        "column_names = [ \"Age\", \"Sex\", \"ChestPainType\", \"RestingBP\", \"cholesterol\", \"FastinBP\", \"RestingECG\", \"MaxHR\", \"ExcercisAngina\", \"Oldpeak\", \"ST_Slope\", \"HeartDisease\"]\n",
        "\n",
        "df = pd.read_csv(\"https://raw.githubusercontent.com/manzf1/heart-/main/heart.csv\", header=None, names = column_names)\n",
        "\n",
        "#Create a second copy of data\n",
        "df_original = df.copy()\n",
        "\n",
        "#show the beginning of the data\n",
        "df.head(9)"
      ],
      "execution_count": 33,
      "outputs": [
        {
          "output_type": "execute_result",
          "data": {
            "text/html": [
              "<div>\n",
              "<style scoped>\n",
              "    .dataframe tbody tr th:only-of-type {\n",
              "        vertical-align: middle;\n",
              "    }\n",
              "\n",
              "    .dataframe tbody tr th {\n",
              "        vertical-align: top;\n",
              "    }\n",
              "\n",
              "    .dataframe thead th {\n",
              "        text-align: right;\n",
              "    }\n",
              "</style>\n",
              "<table border=\"1\" class=\"dataframe\">\n",
              "  <thead>\n",
              "    <tr style=\"text-align: right;\">\n",
              "      <th></th>\n",
              "      <th>Age</th>\n",
              "      <th>Sex</th>\n",
              "      <th>ChestPainType</th>\n",
              "      <th>RestingBP</th>\n",
              "      <th>cholesterol</th>\n",
              "      <th>FastinBP</th>\n",
              "      <th>RestingECG</th>\n",
              "      <th>MaxHR</th>\n",
              "      <th>ExcercisAngina</th>\n",
              "      <th>Oldpeak</th>\n",
              "      <th>ST_Slope</th>\n",
              "      <th>HeartDisease</th>\n",
              "    </tr>\n",
              "  </thead>\n",
              "  <tbody>\n",
              "    <tr>\n",
              "      <th>0</th>\n",
              "      <td>Age</td>\n",
              "      <td>Sex</td>\n",
              "      <td>ChestPainType</td>\n",
              "      <td>RestingBP</td>\n",
              "      <td>Cholesterol</td>\n",
              "      <td>FastingBS</td>\n",
              "      <td>RestingECG</td>\n",
              "      <td>MaxHR</td>\n",
              "      <td>ExerciseAngina</td>\n",
              "      <td>Oldpeak</td>\n",
              "      <td>ST_Slope</td>\n",
              "      <td>HeartDisease</td>\n",
              "    </tr>\n",
              "    <tr>\n",
              "      <th>1</th>\n",
              "      <td>40</td>\n",
              "      <td>M</td>\n",
              "      <td>ATA</td>\n",
              "      <td>140</td>\n",
              "      <td>289</td>\n",
              "      <td>0</td>\n",
              "      <td>Normal</td>\n",
              "      <td>172</td>\n",
              "      <td>N</td>\n",
              "      <td>0</td>\n",
              "      <td>Up</td>\n",
              "      <td>0</td>\n",
              "    </tr>\n",
              "    <tr>\n",
              "      <th>2</th>\n",
              "      <td>49</td>\n",
              "      <td>F</td>\n",
              "      <td>NAP</td>\n",
              "      <td>160</td>\n",
              "      <td>180</td>\n",
              "      <td>0</td>\n",
              "      <td>Normal</td>\n",
              "      <td>156</td>\n",
              "      <td>N</td>\n",
              "      <td>1</td>\n",
              "      <td>Flat</td>\n",
              "      <td>1</td>\n",
              "    </tr>\n",
              "    <tr>\n",
              "      <th>3</th>\n",
              "      <td>37</td>\n",
              "      <td>M</td>\n",
              "      <td>ATA</td>\n",
              "      <td>130</td>\n",
              "      <td>283</td>\n",
              "      <td>0</td>\n",
              "      <td>ST</td>\n",
              "      <td>98</td>\n",
              "      <td>N</td>\n",
              "      <td>0</td>\n",
              "      <td>Up</td>\n",
              "      <td>0</td>\n",
              "    </tr>\n",
              "    <tr>\n",
              "      <th>4</th>\n",
              "      <td>48</td>\n",
              "      <td>F</td>\n",
              "      <td>ASY</td>\n",
              "      <td>138</td>\n",
              "      <td>214</td>\n",
              "      <td>0</td>\n",
              "      <td>Normal</td>\n",
              "      <td>108</td>\n",
              "      <td>Y</td>\n",
              "      <td>1.5</td>\n",
              "      <td>Flat</td>\n",
              "      <td>1</td>\n",
              "    </tr>\n",
              "    <tr>\n",
              "      <th>5</th>\n",
              "      <td>54</td>\n",
              "      <td>M</td>\n",
              "      <td>NAP</td>\n",
              "      <td>150</td>\n",
              "      <td>195</td>\n",
              "      <td>0</td>\n",
              "      <td>Normal</td>\n",
              "      <td>122</td>\n",
              "      <td>N</td>\n",
              "      <td>0</td>\n",
              "      <td>Up</td>\n",
              "      <td>0</td>\n",
              "    </tr>\n",
              "    <tr>\n",
              "      <th>6</th>\n",
              "      <td>39</td>\n",
              "      <td>M</td>\n",
              "      <td>NAP</td>\n",
              "      <td>120</td>\n",
              "      <td>339</td>\n",
              "      <td>0</td>\n",
              "      <td>Normal</td>\n",
              "      <td>170</td>\n",
              "      <td>N</td>\n",
              "      <td>0</td>\n",
              "      <td>Up</td>\n",
              "      <td>0</td>\n",
              "    </tr>\n",
              "    <tr>\n",
              "      <th>7</th>\n",
              "      <td>45</td>\n",
              "      <td>F</td>\n",
              "      <td>ATA</td>\n",
              "      <td>130</td>\n",
              "      <td>237</td>\n",
              "      <td>0</td>\n",
              "      <td>Normal</td>\n",
              "      <td>170</td>\n",
              "      <td>N</td>\n",
              "      <td>0</td>\n",
              "      <td>Up</td>\n",
              "      <td>0</td>\n",
              "    </tr>\n",
              "    <tr>\n",
              "      <th>8</th>\n",
              "      <td>54</td>\n",
              "      <td>M</td>\n",
              "      <td>ATA</td>\n",
              "      <td>110</td>\n",
              "      <td>208</td>\n",
              "      <td>0</td>\n",
              "      <td>Normal</td>\n",
              "      <td>142</td>\n",
              "      <td>N</td>\n",
              "      <td>0</td>\n",
              "      <td>Up</td>\n",
              "      <td>0</td>\n",
              "    </tr>\n",
              "  </tbody>\n",
              "</table>\n",
              "</div>"
            ],
            "text/plain": [
              "   Age  Sex  ChestPainType  ...  Oldpeak  ST_Slope  HeartDisease\n",
              "0  Age  Sex  ChestPainType  ...  Oldpeak  ST_Slope  HeartDisease\n",
              "1   40    M            ATA  ...        0        Up             0\n",
              "2   49    F            NAP  ...        1      Flat             1\n",
              "3   37    M            ATA  ...        0        Up             0\n",
              "4   48    F            ASY  ...      1.5      Flat             1\n",
              "5   54    M            NAP  ...        0        Up             0\n",
              "6   39    M            NAP  ...        0        Up             0\n",
              "7   45    F            ATA  ...        0        Up             0\n",
              "8   54    M            ATA  ...        0        Up             0\n",
              "\n",
              "[9 rows x 12 columns]"
            ]
          },
          "metadata": {},
          "execution_count": 33
        }
      ]
    },
    {
      "cell_type": "code",
      "metadata": {
        "colab": {
          "base_uri": "https://localhost:8080/"
        },
        "id": "thhxkpI53zrh",
        "outputId": "b50b103d-abcc-4bf6-e633-ec365999b6ef"
      },
      "source": [
        "#check if we have an empty data\n",
        "df.isna().sum()"
      ],
      "execution_count": 21,
      "outputs": [
        {
          "output_type": "execute_result",
          "data": {
            "text/plain": [
              "Age               0\n",
              "Sex               0\n",
              "ChestPainType     0\n",
              "RestingBP         0\n",
              "cholesterol       0\n",
              "FastinBP          0\n",
              "RestingECG        0\n",
              "MaxHR             0\n",
              "ExcercisAngina    0\n",
              "Oldpeak           0\n",
              "ST_Slope          0\n",
              "HeartDisease      0\n",
              "dtype: int64"
            ]
          },
          "metadata": {},
          "execution_count": 21
        }
      ]
    },
    {
      "cell_type": "code",
      "metadata": {
        "colab": {
          "base_uri": "https://localhost:8080/"
        },
        "id": "A-FnsV7_4QGP",
        "outputId": "52cea1e9-c028-4dcb-94a1-74dd9cbfc390"
      },
      "source": [
        "#check how many unique values we have in each column\n",
        "df.nunique()"
      ],
      "execution_count": 22,
      "outputs": [
        {
          "output_type": "execute_result",
          "data": {
            "text/plain": [
              "Age                51\n",
              "Sex                 3\n",
              "ChestPainType       5\n",
              "RestingBP          68\n",
              "cholesterol       223\n",
              "FastinBP            3\n",
              "RestingECG          4\n",
              "MaxHR             120\n",
              "ExcercisAngina      3\n",
              "Oldpeak            54\n",
              "ST_Slope            4\n",
              "HeartDisease        3\n",
              "dtype: int64"
            ]
          },
          "metadata": {},
          "execution_count": 22
        }
      ]
    },
    {
      "cell_type": "code",
      "metadata": {
        "colab": {
          "base_uri": "https://localhost:8080/"
        },
        "id": "Sylk3Q_C4lEL",
        "outputId": "0549cc2f-3005-4a1d-ad33-9cedf3a2669f"
      },
      "source": [
        "#delete a column\n",
        "df = df.drop(['FastinBP'], axis=1)\n",
        "\n",
        "\n",
        "df_original = df.copy()\n",
        "\n",
        "#check the type of each feature\n",
        "df.info()"
      ],
      "execution_count": 56,
      "outputs": [
        {
          "output_type": "stream",
          "name": "stdout",
          "text": [
            "<class 'pandas.core.frame.DataFrame'>\n",
            "RangeIndex: 919 entries, 0 to 918\n",
            "Data columns (total 8 columns):\n",
            " #   Column          Non-Null Count  Dtype \n",
            "---  ------          --------------  ----- \n",
            " 0   Age             919 non-null    object\n",
            " 1   RestingBP       919 non-null    object\n",
            " 2   cholesterol     919 non-null    object\n",
            " 3   MaxHR           919 non-null    object\n",
            " 4   ExcercisAngina  919 non-null    object\n",
            " 5   Oldpeak         919 non-null    object\n",
            " 6   ST_Slope        919 non-null    object\n",
            " 7   HeartDisease    919 non-null    object\n",
            "dtypes: object(8)\n",
            "memory usage: 57.6+ KB\n"
          ]
        }
      ]
    },
    {
      "cell_type": "code",
      "metadata": {
        "colab": {
          "base_uri": "https://localhost:8080/"
        },
        "id": "SROlFgDJ6Q60",
        "outputId": "a941cabb-715a-40e1-a9a3-012b48780202"
      },
      "source": [
        "#check for nulls\n",
        "df.isnull().sum()"
      ],
      "execution_count": 57,
      "outputs": [
        {
          "output_type": "execute_result",
          "data": {
            "text/plain": [
              "Age               0\n",
              "RestingBP         0\n",
              "cholesterol       0\n",
              "MaxHR             0\n",
              "ExcercisAngina    0\n",
              "Oldpeak           0\n",
              "ST_Slope          0\n",
              "HeartDisease      0\n",
              "dtype: int64"
            ]
          },
          "metadata": {},
          "execution_count": 57
        }
      ]
    },
    {
      "cell_type": "code",
      "metadata": {
        "colab": {
          "base_uri": "https://localhost:8080/",
          "height": 171
        },
        "id": "nSIedcqb6fUL",
        "outputId": "8943a071-6294-48c5-b9c7-9ad44ae36396"
      },
      "source": [
        "df.describe()"
      ],
      "execution_count": 59,
      "outputs": [
        {
          "output_type": "execute_result",
          "data": {
            "text/html": [
              "<div>\n",
              "<style scoped>\n",
              "    .dataframe tbody tr th:only-of-type {\n",
              "        vertical-align: middle;\n",
              "    }\n",
              "\n",
              "    .dataframe tbody tr th {\n",
              "        vertical-align: top;\n",
              "    }\n",
              "\n",
              "    .dataframe thead th {\n",
              "        text-align: right;\n",
              "    }\n",
              "</style>\n",
              "<table border=\"1\" class=\"dataframe\">\n",
              "  <thead>\n",
              "    <tr style=\"text-align: right;\">\n",
              "      <th></th>\n",
              "      <th>Age</th>\n",
              "      <th>RestingBP</th>\n",
              "      <th>cholesterol</th>\n",
              "      <th>MaxHR</th>\n",
              "      <th>ExcercisAngina</th>\n",
              "      <th>Oldpeak</th>\n",
              "      <th>ST_Slope</th>\n",
              "      <th>HeartDisease</th>\n",
              "    </tr>\n",
              "  </thead>\n",
              "  <tbody>\n",
              "    <tr>\n",
              "      <th>count</th>\n",
              "      <td>919</td>\n",
              "      <td>919</td>\n",
              "      <td>919</td>\n",
              "      <td>919</td>\n",
              "      <td>919</td>\n",
              "      <td>919</td>\n",
              "      <td>919</td>\n",
              "      <td>919</td>\n",
              "    </tr>\n",
              "    <tr>\n",
              "      <th>unique</th>\n",
              "      <td>51</td>\n",
              "      <td>68</td>\n",
              "      <td>223</td>\n",
              "      <td>120</td>\n",
              "      <td>3</td>\n",
              "      <td>54</td>\n",
              "      <td>4</td>\n",
              "      <td>3</td>\n",
              "    </tr>\n",
              "    <tr>\n",
              "      <th>top</th>\n",
              "      <td>54</td>\n",
              "      <td>120</td>\n",
              "      <td>0</td>\n",
              "      <td>150</td>\n",
              "      <td>N</td>\n",
              "      <td>0</td>\n",
              "      <td>Flat</td>\n",
              "      <td>1</td>\n",
              "    </tr>\n",
              "    <tr>\n",
              "      <th>freq</th>\n",
              "      <td>51</td>\n",
              "      <td>132</td>\n",
              "      <td>172</td>\n",
              "      <td>43</td>\n",
              "      <td>547</td>\n",
              "      <td>368</td>\n",
              "      <td>460</td>\n",
              "      <td>508</td>\n",
              "    </tr>\n",
              "  </tbody>\n",
              "</table>\n",
              "</div>"
            ],
            "text/plain": [
              "        Age RestingBP cholesterol  ... Oldpeak ST_Slope HeartDisease\n",
              "count   919       919         919  ...     919      919          919\n",
              "unique   51        68         223  ...      54        4            3\n",
              "top      54       120           0  ...       0     Flat            1\n",
              "freq     51       132         172  ...     368      460          508\n",
              "\n",
              "[4 rows x 8 columns]"
            ]
          },
          "metadata": {},
          "execution_count": 59
        }
      ]
    },
    {
      "cell_type": "code",
      "metadata": {
        "colab": {
          "base_uri": "https://localhost:8080/",
          "height": 604
        },
        "id": "zzrf-eot6o3h",
        "outputId": "7180f3f2-7f76-4455-855d-da8392c283f6"
      },
      "source": [
        "#using value_counts to plot the RestingBP of people\n",
        "plt.figure(figsize=(20,10))\n",
        "df['RestingBP'].value_counts().plot(kind='bar', fontsize=1)"
      ],
      "execution_count": 60,
      "outputs": [
        {
          "output_type": "execute_result",
          "data": {
            "text/plain": [
              "<matplotlib.axes._subplots.AxesSubplot at 0x7f00a28d7ed0>"
            ]
          },
          "metadata": {},
          "execution_count": 60
        },
        {
          "output_type": "display_data",
          "data": {
            "image/png": "[encoded data removed]",
            "text/plain": [
              "<Figure size 1440x720 with 1 Axes>"
            ]
          },
          "metadata": {
            "needs_background": "light"
          }
        }
      ]
    },
    {
      "cell_type": "markdown",
      "metadata": {
        "id": "K5vCEx5uVUd8"
      },
      "source": [
        "# **Conclusion**\n",
        "##### the data set cannot plot the histogram,scatter diagram and heat map"
      ]
    },
    {
      "cell_type": "markdown",
      "metadata": {
        "id": "mAWLtl8xWBA4"
      },
      "source": [
        ""
      ]
    }
  ]
}